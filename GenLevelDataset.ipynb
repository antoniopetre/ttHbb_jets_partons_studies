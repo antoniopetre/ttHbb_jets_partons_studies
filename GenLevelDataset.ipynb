{
 "cells": [
  {
   "cell_type": "code",
   "execution_count": 28,
   "id": "bf294b6d-44a6-4fa4-815c-9aa89c118b73",
   "metadata": {},
   "outputs": [],
   "source": [
    "import matplotlib.pyplot as plt\n",
    "from matplotlib.colors import LogNorm\n",
    "import mplhep as hep\n",
    "from coffea.util import load\n",
    "import numpy as np\n",
    "import pandas as pd\n",
    "import awkward as ak\n",
    "from coffea.nanoevents import NanoEventsFactory, NanoAODSchema\n",
    "from numba import njit\n",
    "import vector\n",
    "vector.register_numba()\n",
    "vector.register_awkward()\n",
    "\n",
    "from pprint import pprint \n",
    "hep.style.use(hep.style.ROOT)\n",
    "\n",
    "import hist"
   ]
  },
  {
   "cell_type": "code",
   "execution_count": 4,
   "id": "a5560b61-7e26-48f1-b0ef-f79b6c13894d",
   "metadata": {},
   "outputs": [],
   "source": [
    "\n",
    "filename = 'root://t3se01.psi.ch:1094//store/mc/RunIISummer20UL18NanoAODv9/ttHTobb_M125_TuneCP5_13TeV-powheg-pythia8/NANOAODSIM/106X_upgrade2018_realistic_v16_L1v1-v2/100000/19922B78-283B-CD48-8A3D-0308D48A824A.root'\n",
    "events = NanoEventsFactory.from_root(filename, schemaclass=NanoAODSchema, entry_stop=100000).events()\n"
   ]
  },
  {
   "cell_type": "code",
   "execution_count": 8,
   "id": "3ac2e76c-620c-44a7-b184-e834274c9a58",
   "metadata": {},
   "outputs": [
    {
     "data": {
      "text/plain": [
       "{'MetUnclustEnUpDeltaX': -0.33203125,\n",
       " 'MetUnclustEnUpDeltaY': 1.23828125,\n",
       " 'covXX': 776.0,\n",
       " 'covXY': -140.5,\n",
       " 'covYY': 550.0,\n",
       " 'phi': 0.3990478515625,\n",
       " 'pt': 79.87171173095703,\n",
       " 'significance': 10.734375,\n",
       " 'sumEt': 1242.0,\n",
       " 'sumPtUnclustered': 668.0,\n",
       " 'fiducialGenPhi': 0.077880859375,\n",
       " 'fiducialGenPt': 36.34375}"
      ]
     },
     "execution_count": 8,
     "metadata": {},
     "output_type": "execute_result"
    }
   ],
   "source": [
    "events.MET[0].tolist()"
   ]
  },
  {
   "cell_type": "code",
   "execution_count": 18,
   "id": "9dded128-e56b-4e25-9d67-03f7abae6e3c",
   "metadata": {},
   "outputs": [
    {
     "data": {
      "text/plain": [
       "{'binvar': -1.0,\n",
       " 'scalePDF': 141.3828125,\n",
       " 'weight': 0.5115966796875,\n",
       " 'x1': 0.06384658813476562,\n",
       " 'x2': 0.0936737060546875,\n",
       " 'xpdf1': 0.0,\n",
       " 'xpdf2': 0.0,\n",
       " 'id1': -1,\n",
       " 'id2': 21}"
      ]
     },
     "execution_count": 18,
     "metadata": {},
     "output_type": "execute_result"
    }
   ],
   "source": [
    "events.Generator[7].tolist()"
   ]
  },
  {
   "cell_type": "code",
   "execution_count": 43,
   "id": "19b44780-a7d9-41f1-ac89-80da2f8c37ca",
   "metadata": {},
   "outputs": [
    {
     "data": {
      "text/plain": [
       "[{'pt': 44.146484375,\n",
       "  'eta': -0.01976776123046875,\n",
       "  'phi': -0.901947021484375,\n",
       "  'mass': 0.0006694197654724121,\n",
       "  'incomingpz': 0.0,\n",
       "  'pdgId': -11,\n",
       "  'status': 1,\n",
       "  'spin': 1},\n",
       " {'pt': 36.724609375,\n",
       "  'eta': -1.48870849609375,\n",
       "  'phi': 0.4057464599609375,\n",
       "  'mass': -0.000682145357131958,\n",
       "  'incomingpz': 0.0,\n",
       "  'pdgId': 12,\n",
       "  'status': 1,\n",
       "  'spin': -1}]"
      ]
     },
     "execution_count": 43,
     "metadata": {},
     "output_type": "execute_result"
    }
   ],
   "source": [
    "events.LHEPart[(events.LHEPart.status==1)&(abs(events.LHEPart.pdgId)>10)&(abs(events.LHEPart.pdgId)<15)][3].tolist()"
   ]
  },
  {
   "cell_type": "markdown",
   "id": "0ebeb423-1541-48ad-8491-a1631c5075cc",
   "metadata": {},
   "source": [
    "# Loading the exported dataset"
   ]
  },
  {
   "cell_type": "code",
   "execution_count": 29,
   "id": "4c384868-2dbb-4410-bfe9-f9d95d5e2464",
   "metadata": {},
   "outputs": [],
   "source": [
    "df = load(\"../../output/jets_partons_leptons_training_dataset_v05/output_ttHTobb_2018.coffea\")"
   ]
  },
  {
   "cell_type": "code",
   "execution_count": 30,
   "id": "7cb943f2-26dd-4deb-b88a-9f1a0646a4fb",
   "metadata": {},
   "outputs": [
    {
     "data": {
      "text/plain": [
       "{'initial': {'ttHTobb': 9668000},\n",
       " 'skim': {'ttHTobb': 1607845},\n",
       " 'presel': {'ttHTobb': 777068},\n",
       " 'semilep_LHE': {'ttHTobb': 584143}}"
      ]
     },
     "execution_count": 30,
     "metadata": {},
     "output_type": "execute_result"
    }
   ],
   "source": [
    "df[\"cutflow\"]"
   ]
  },
  {
   "cell_type": "code",
   "execution_count": 31,
   "id": "1a10b95c-625b-49b2-9c98-ab0e8e9ef006",
   "metadata": {},
   "outputs": [
    {
     "data": {
      "text/plain": [
       "{'semilep_LHE': {'ttHTobb': 952.9547538368306}}"
      ]
     },
     "execution_count": 31,
     "metadata": {},
     "output_type": "execute_result"
    }
   ],
   "source": [
    "df[\"sumw\"]"
   ]
  },
  {
   "cell_type": "code",
   "execution_count": 32,
   "id": "4810b3c2-60bf-456b-8b92-acc1d306bc66",
   "metadata": {},
   "outputs": [],
   "source": [
    "cs = df[\"columns\"]['ttHTobb'][\"semilep_LHE\"]\n",
    "\n",
    "partons = ak.unflatten(ak.zip({\"pt\": cs[\"Parton_pt\"].value,\n",
    "                              \"eta\": cs[\"Parton_eta\"].value,\n",
    "                              \"phi\": cs[\"Parton_phi\"].value,\n",
    "                               \"mass\": cs[\"Parton_mass\"].value,\n",
    "                              \"pdgId\": cs[\"Parton_pdgId\"].value, \n",
    "                              \"prov\": cs[\"Parton_provenance\"].value},\n",
    "                         with_name='Momentum4D'),\n",
    "                     cs[\"Parton_N\"].value)\n",
    "\n",
    "partons_matched = ak.unflatten(ak.zip({\"pt\": cs[\"PartonMatched_pt\"].value,\n",
    "                              \"eta\": cs[\"PartonMatched_eta\"].value,\n",
    "                              \"phi\": cs[\"PartonMatched_phi\"].value,\n",
    "                              \"mass\": cs[\"PartonMatched_mass\"].value,\n",
    "                              \"pdgId\": cs[\"PartonMatched_pdgId\"].value, \n",
    "                              \"prov\": cs[\"PartonMatched_provenance\"].value},\n",
    "                         with_name='Momentum4D'),\n",
    "                     cs[\"PartonMatched_N\"].value)\n",
    "\n",
    "jets = ak.unflatten(ak.zip({\"pt\": cs[\"JetGood_pt\"].value,\n",
    "                              \"eta\": cs[\"JetGood_eta\"].value,\n",
    "                              \"phi\": cs[\"JetGood_phi\"].value,\n",
    "                              \"btag\": cs[\"JetGood_btagDeepFlavB\"].value,\n",
    "                              \"m\": np.zeros(cs[\"JetGood_btagDeepFlavB\"].value.shape)},\n",
    "                         with_name='Momentum4D'),\n",
    "                     cs[\"JetGood_N\"].value)\n",
    "\n",
    "jets_matched = ak.unflatten(ak.zip({\"pt\": cs[\"JetGoodMatched_pt\"].value,\n",
    "                              \"eta\": cs[\"JetGoodMatched_eta\"].value,\n",
    "                              \"phi\": cs[\"JetGoodMatched_phi\"].value,\n",
    "                              \"btag\": cs[\"JetGoodMatched_btagDeepFlavB\"].value,\n",
    "                              \"prov\": cs[\"PartonMatched_provenance\"].value,\n",
    "                              \"m\": np.zeros(cs[\"PartonMatched_provenance\"].value.shape)},\n",
    "                         with_name='Momentum4D'),\n",
    "                     cs[\"JetGoodMatched_N\"].value)\n",
    "\n",
    "\n",
    "generator_info = ak.zip({\"pdgid1\": cs[\"Generator_id1\"].value,\n",
    "                              \"pdgid2\": cs[\"Generator_id2\"].value,\n",
    "                              \"x1\": cs[\"Generator_x1\"].value,\n",
    "                              \"x2\": cs[\"Generator_x2\"].value},\n",
    "                         )\n",
    "\n",
    "\n",
    "lepton_partons = ak.unflatten(ak.zip({\"pt\": cs[\"LeptonParton_pt\"].value,\n",
    "                              \"eta\": cs[\"LeptonParton_eta\"].value,\n",
    "                              \"phi\": cs[\"LeptonParton_phi\"].value,\n",
    "                              \"mass\": cs[\"LeptonParton_mass\"].value,\n",
    "                              \"pdgId\": cs[\"LeptonParton_pdgId\"].value},\n",
    "                         with_name='Momentum4D'),\n",
    "                     cs[\"LeptonParton_N\"].value)\n",
    "\n",
    "\n",
    "lepton = ak.zip({\"pt\": cs[\"LeptonGood_pt\"].value,\n",
    "                              \"eta\": cs[\"LeptonGood_eta\"].value,\n",
    "                              \"phi\": cs[\"LeptonGood_phi\"].value,\n",
    "                              \"m\": np.zeros(cs[\"LeptonGood_pt\"].value.shape)},\n",
    "                         with_name='Momentum4D')\n",
    "\n",
    "\n",
    "met = ak.zip({\"pt\": cs[\"MET_pt\"].value,\n",
    "              \"eta\":  np.zeros(cs[\"MET_pt\"].value.shape),\n",
    "              \"phi\": cs[\"MET_phi\"].value,\n",
    "              \"m\": np.zeros(cs[\"MET_pt\"].value.shape)},\n",
    "         with_name='Momentum4D')"
   ]
  },
  {
   "cell_type": "code",
   "execution_count": 33,
   "id": "51924b95-be03-4afa-bd6d-9355d8504c1c",
   "metadata": {},
   "outputs": [],
   "source": [
    "jets_matched = ak.mask(jets_matched, jets_matched.pt==-999, None)\n",
    "partons_matched = ak.mask(partons_matched, partons_matched.pt==-999, None)\n",
    "is_jet_matched = ~ak.is_none(jets_matched, axis=1)\n",
    "jets = ak.with_field(jets, is_jet_matched, \"matched\")\n",
    "\n",
    "# Filling with -1 the not matched provenance\n",
    "jets = ak.with_field(jets, ak.fill_none(jets_matched.prov, -1), \"prov\")"
   ]
  },
  {
   "cell_type": "markdown",
   "id": "c95d88c0-b9dd-4849-933d-12997bfd1be4",
   "metadata": {},
   "source": [
    "Jets and partons_matched arrays are **aligned**."
   ]
  },
  {
   "cell_type": "code",
   "execution_count": 34,
   "id": "ebd7a17e-8d88-4e1e-bf9b-f92a554167c5",
   "metadata": {},
   "outputs": [
    {
     "data": {
      "text/plain": [
       "<MomentumArray4D [[{pt: 30.6, eta: 0.0307, ... prov: 1}]] type='584143 * var * M...'>"
      ]
     },
     "execution_count": 34,
     "metadata": {},
     "output_type": "execute_result"
    }
   ],
   "source": [
    "partons"
   ]
  },
  {
   "cell_type": "code",
   "execution_count": 27,
   "id": "c06eb64b-e5cd-4ce4-ae47-7b5531e0d7f2",
   "metadata": {},
   "outputs": [],
   "source": [
    "df = ak.zip({\n",
    "    \"jets\": jets,\n",
    "    \"partons_matched\": partons_matched,\n",
    "    \"generator_info\": generator_info,\n",
    "    \"lepton_partons\":lepton_partons,\n",
    "    \"lepton_reco\": lepton,\n",
    "    \"met\": met\n",
    "    }, depth_limit=1)\n",
    "\n",
    "ak.to_parquet(df, \"all_jets_v5.parquet\")"
   ]
  },
  {
   "cell_type": "code",
   "execution_count": 121,
   "id": "375ba439-0ff4-443e-a161-1274a1e92cb7",
   "metadata": {},
   "outputs": [
    {
     "data": {
      "text/plain": [
       "<Array [[2, 3, -1, 4, 5], ... [1, 5, 3, 2, -1]] type='584143 * var * float64'>"
      ]
     },
     "execution_count": 121,
     "metadata": {},
     "output_type": "execute_result"
    }
   ],
   "source": [
    "jets.prov"
   ]
  },
  {
   "cell_type": "code",
   "execution_count": null,
   "id": "918e52d5-31f5-40c8-9393-33e0b97fd6b2",
   "metadata": {},
   "outputs": [],
   "source": []
  }
 ],
 "metadata": {
  "kernelspec": {
   "display_name": "Python 3 (ipykernel)",
   "language": "python",
   "name": "python3"
  },
  "language_info": {
   "codemirror_mode": {
    "name": "ipython",
    "version": 3
   },
   "file_extension": ".py",
   "mimetype": "text/x-python",
   "name": "python",
   "nbconvert_exporter": "python",
   "pygments_lexer": "ipython3",
   "version": "3.9.14"
  }
 },
 "nbformat": 4,
 "nbformat_minor": 5
}
