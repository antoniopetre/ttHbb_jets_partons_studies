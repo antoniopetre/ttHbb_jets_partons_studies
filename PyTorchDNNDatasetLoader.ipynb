{
 "cells": [
  {
   "cell_type": "code",
   "execution_count": 4,
   "id": "ee9c2c9e",
   "metadata": {},
   "outputs": [],
   "source": [
    "import matplotlib.pyplot as plt\n",
    "from matplotlib.colors import LogNorm\n",
    "import mplhep as hep\n",
    "from coffea.util import load\n",
    "import numpy as np\n",
    "import pandas as pd\n",
    "import awkward as ak\n",
    "from coffea.nanoevents import NanoEventsFactory, NanoAODSchema\n",
    "from numba import njit\n",
    "import vector\n",
    "import numba as nb\n",
    "import numpy.ma as ma\n",
    "vector.register_numba()\n",
    "vector.register_awkward()\n",
    "\n",
    "\n",
    "from pprint import pprint \n",
    "hep.style.use(hep.style.ROOT)\n",
    "\n",
    "\n",
    "import hist"
   ]
  },
  {
   "cell_type": "code",
   "execution_count": 5,
   "id": "bed39252",
   "metadata": {},
   "outputs": [],
   "source": [
    "df = ak.from_parquet(\"../dataset_1/all_jets_v6.parquet\")"
   ]
  },
  {
   "cell_type": "code",
   "execution_count": 6,
   "id": "fec4177c",
   "metadata": {},
   "outputs": [
    {
     "data": {
      "text/plain": [
       "584143 * var * Momentum4D[\"pt\": float32, \"eta\": float32, \"phi\": float32, \"btag\": float32, \"m\": float64, \"matched\": bool, \"prov\": float64]"
      ]
     },
     "execution_count": 6,
     "metadata": {},
     "output_type": "execute_result"
    }
   ],
   "source": [
    "(jets,\n",
    "partons_matched,\n",
    "partons,\n",
    "generator_info,\n",
    "lepton_partons,\n",
    "lepton_reco, \n",
    "met\n",
    ") = ak.unzip(df)\n",
    "\n",
    "jets = ak.with_name(jets, name=\"Momentum4D\")\n",
    "partons_matched = ak.with_name(partons_matched, name=\"Momentum4D\")\n",
    "partons = ak.with_name(partons, name=\"Momentum4D\")\n",
    "lepton_partons = ak.with_name(lepton_partons, name=\"Momentum4D\")\n",
    "lepton_reco = ak.with_name(lepton_reco, name=\"Momentum4D\")\n",
    "met = ak.with_name(met, name=\"Momentum4D\")\n",
    "\n",
    "jets.type"
   ]
  },
  {
   "cell_type": "code",
   "execution_count": 7,
   "id": "0c4c7f65",
   "metadata": {},
   "outputs": [],
   "source": [
    "def no_zero_awkward(array, feature, jets=True):\n",
    "\n",
    "    y = array[feature][array[feature] == 0]\n",
    "    return ak.count(y)"
   ]
  },
  {
   "cell_type": "code",
   "execution_count": 8,
   "id": "f104ffb6",
   "metadata": {},
   "outputs": [
    {
     "name": "stdout",
     "output_type": "stream",
     "text": [
      "Jets\n",
      "pt: 0\n",
      "eta: 0\n",
      "phi: 0\n",
      "btag: 0\n",
      "m: 3327098\n",
      "matched: 474407\n",
      "prov: 0\n",
      "Leptons\n",
      "pt: 0\n",
      "eta: 0\n",
      "phi: 0\n",
      "m: 584143\n",
      "MET\n",
      "pt: 0\n",
      "eta: 584143\n",
      "phi: 0\n",
      "m: 584143\n"
     ]
    }
   ],
   "source": [
    "jet_features = [\"pt\", \"eta\", \"phi\", \"btag\", \"m\", \"matched\", \"prov\"]\n",
    "\n",
    "print(\"Jets\")\n",
    "for x in jet_features:\n",
    "    print(x + \": \" + f\"{no_zero_awkward(jets, x)}\")\n",
    "\n",
    "print(\"Leptons\")\n",
    "lept_features = [\"pt\", \"eta\", \"phi\", \"m\"]\n",
    "\n",
    "for x in lept_features:\n",
    "    print(x + \": \" + f\"{no_zero_awkward(lepton_reco, x, False)}\")\n",
    "\n",
    "print(\"MET\")\n",
    "lept_features = [\"pt\", \"eta\", \"phi\", \"m\"]\n",
    "\n",
    "for x in lept_features:\n",
    "    print(x + \": \" + f\"{no_zero_awkward(met, x, False)}\")"
   ]
  },
  {
   "cell_type": "code",
   "execution_count": 9,
   "id": "5c00f419",
   "metadata": {},
   "outputs": [],
   "source": [
    "def to_flat_numpy(X, fields, axis=1, allow_missing=False):\n",
    "    return np.stack([ak.to_numpy(X[f], allow_missing=allow_missing) for f in fields], axis=axis)\n",
    "\n",
    "def to_flat_tensor(X, fields, axis=1, allow_missing=False):\n",
    "    return torch.tensor(np.stack([ak.to_numpy(X[f], allow_missing=allow_missing) for f in fields], axis=axis))\n",
    "\n"
   ]
  },
  {
   "cell_type": "code",
   "execution_count": 10,
   "id": "c68d4880",
   "metadata": {},
   "outputs": [],
   "source": [
    "@njit\n",
    "def sum_vectors_all(arrays):\n",
    "    size = len(arrays)\n",
    "    results = np.zeros((size, 4))\n",
    "    for i, array in enumerate(arrays):\n",
    "        total = vector.obj(px=0.0, py=0.0, pz=0.0, E=0.0)\n",
    "        for v in array:\n",
    "            total = total + v\n",
    "        results[i, 0] = total.px\n",
    "        results[i, 1] = total.py\n",
    "        results[i, 2] = total.pz\n",
    "        results[i, 3] = total.E\n",
    "    return results\n",
    "\n",
    "\n",
    "def get_vector_sum(vectors):\n",
    "    out = sum_vectors_all(vectors)\n",
    "    return vector.awk({\n",
    "        \"px\": out[:, 0],\n",
    "        \"py\": out[:, 1],\n",
    "        \"pz\": out[:, 2],\n",
    "        \"E\": out[:, 3],\n",
    "    })"
   ]
  },
  {
   "cell_type": "code",
   "execution_count": 11,
   "id": "6a788f2e",
   "metadata": {},
   "outputs": [],
   "source": [
    "boost_jets = get_vector_sum(jets)\n",
    "boost_reco = boost_jets + lepton_reco + met"
   ]
  },
  {
   "cell_type": "code",
   "execution_count": 12,
   "id": "47727b6c",
   "metadata": {},
   "outputs": [],
   "source": [
    "jets_CM = jets.boost_beta3(-(boost_reco.to_beta3()))\n",
    "lept_CM = lepton_reco.boost_beta3(-(boost_reco.to_beta3()))\n",
    "met_CM = met.boost_beta3(-(boost_reco.to_beta3()))\n",
    "\n",
    "CM_ALL = get_vector_sum(jets_CM) + lept_CM + met_CM"
   ]
  },
  {
   "cell_type": "code",
   "execution_count": 13,
   "id": "39a73a53",
   "metadata": {},
   "outputs": [
    {
     "data": {
      "text/plain": [
       "<Array [9.95e-07, 3.9e-06, ... -4.76e-07] type='584143 * float64'>"
      ]
     },
     "execution_count": 13,
     "metadata": {},
     "output_type": "execute_result"
    }
   ],
   "source": [
    "CM_ALL.px"
   ]
  },
  {
   "cell_type": "code",
   "execution_count": 14,
   "id": "15bb90e7",
   "metadata": {},
   "outputs": [
    {
     "data": {
      "text/plain": [
       "584143 * Momentum4D[\"x\": float64, \"y\": float64, \"z\": float64, \"t\": float64]"
      ]
     },
     "execution_count": 14,
     "metadata": {},
     "output_type": "execute_result"
    }
   ],
   "source": [
    "boost_reco.type"
   ]
  },
  {
   "cell_type": "code",
   "execution_count": 15,
   "id": "13f080eb",
   "metadata": {},
   "outputs": [
    {
     "name": "stdout",
     "output_type": "stream",
     "text": [
      "[707, 2.22e+03, 684, 1.84e+03, 846, ... 1.73e+03, 1.1e+03, 1.05e+03, 882, 1.14e+03]\n",
      "[1.07, 1.38, -0.745, 0.949, 1.21, 1.21, ... -1.23, -1.13, -0.717, -0.649, -0.00615]\n",
      "[1.07, 1.38, -0.745, 0.949, 1.21, 1.21, ... -1.23, -1.13, -0.717, -0.649, -0.00615]\n",
      "[20.7, 6.04, 45.2, 4.77, 91.3, 51.1, 39.8, ... 124, 70, 106, 68.3, 41, 93.9, 27.2]\n",
      "[0.213, 2.99, 1.93, 2.93, 2.07, 1.5, ... 0.194, 0.462, 0.728, 0.41, 0.259, 0.182]\n"
     ]
    }
   ],
   "source": [
    "print(boost_reco[\"t\"])\n",
    "\n",
    "rapidity = boost_reco.rapidity\n",
    "print(rapidity)\n",
    "\n",
    "rapidy2 = np.log((boost_reco[\"t\"] + boost_reco[\"z\"])/(boost_reco[\"t\"] - boost_reco[\"z\"]))/2\n",
    "print(rapidy2)\n",
    "\n",
    "pt = np.sqrt(boost_reco[\"x\"]**2 + boost_reco[\"y\"]**2)\n",
    "print (pt)\n",
    "\n",
    "phi = np.arccos(boost_reco[\"x\"]/pt)\n",
    "print(phi)\n",
    "\n",
    "m = 0\n",
    "\n",
    "\n"
   ]
  },
  {
   "cell_type": "markdown",
   "id": "5ba4382a",
   "metadata": {},
   "source": [
    "# PyTorch DNN dataset"
   ]
  },
  {
   "cell_type": "code",
   "execution_count": 16,
   "id": "108b0ebf",
   "metadata": {},
   "outputs": [],
   "source": [
    "import os\n",
    "import os.path\n",
    "\n",
    "import numpy as np\n",
    "import torch\n",
    "import awkward as ak\n",
    "from tqdm import tqdm\n",
    "\n",
    "from torch.utils.data import Dataset"
   ]
  },
  {
   "cell_type": "code",
   "execution_count": 17,
   "id": "0e0dacdc",
   "metadata": {},
   "outputs": [],
   "source": [
    "struct_jets = ak.zip({\"pt\": np.float32(0),\n",
    "                \"eta\": np.float32(0),\n",
    "                \"phi\": np.float32(0),\n",
    "                \"btag\": np.float32(0),\n",
    "                \"m\": np.float64(0),\n",
    "                \"matched\": bool(0),\n",
    "                \"prov\": 0.},\n",
    "        with_name='Momentum4D')\n",
    "\n",
    "struct_jets_CM = ak.zip({\"x\": np.float32(0),\n",
    "                \"y\": np.float32(0),\n",
    "                \"z\": np.float32(0),\n",
    "                \"tau\": np.float32(0),\n",
    "                \"pt\": np.float32(0),\n",
    "                \"btag\": np.float32(0),\n",
    "                \"m\": np.float64(0),\n",
    "                \"matched\": bool(0),\n",
    "                \"prov\": 0.},\n",
    "        with_name='Momentum4D')\n",
    "\n",
    "ones_jets = ak.zip({\"pt\": np.float32(1),\n",
    "                \"eta\": np.float32(1),\n",
    "                \"phi\": np.float32(1),\n",
    "                \"btag\": np.float32(1),\n",
    "                \"m\": np.float64(1),\n",
    "                \"matched\": bool(1),\n",
    "                \"prov\": 1.},\n",
    "        with_name='Momentum4D')\n",
    "\n",
    "struct_lepton = ak.zip({\"pt\": np.float32(0),\n",
    "                \"eta\": np.float32(0),\n",
    "                \"phi\": np.float32(0),\n",
    "                \"m\": np.float32(0)},\n",
    "        with_name='Momentum4D')\n",
    "\n",
    "ones_lepton = ak.zip({\"pt\": np.float32(1),\n",
    "                \"eta\": np.float32(1),\n",
    "                \"phi\": np.float32(1),\n",
    "                \"m\": np.float32(1)},\n",
    "        with_name='Momentum4D')"
   ]
  },
  {
   "cell_type": "code",
   "execution_count": 18,
   "id": "a96b0daf",
   "metadata": {},
   "outputs": [
    {
     "name": "stdout",
     "output_type": "stream",
     "text": [
      "584143 * var * Momentum4D[\"x\": float64, \"y\": float64, \"z\": float64, \"tau\": float64, \"pt\": float32, \"btag\": float32, \"m\": float64, \"matched\": bool, \"prov\": float64]\n",
      "584143 * var * Momentum4D[\"pt\": float32, \"eta\": float32, \"phi\": float32, \"btag\": float32, \"m\": float64, \"matched\": bool, \"prov\": float64]\n",
      "[{x: 9.95e-07, y: -2.15e-07, z: 2.75e-05, t: 435}, ... z: -1.41e-10, t: 1.14e+03}]\n"
     ]
    }
   ],
   "source": [
    "boost = boost_reco\n",
    "\n",
    "jets_CM = jets.boost_beta3(-(boost.to_beta3()))\n",
    "lept_CM = lepton_reco.boost_beta3(-(boost.to_beta3()))\n",
    "met_CM = met.boost_beta3(-(boost.to_beta3()))\n",
    "\n",
    "print(jets_CM.type)\n",
    "print(jets.type)\n",
    "\n",
    "#jets_CM_sum = get_vector_sum(jets_CM)\n",
    "\n",
    "#final = jets_CM_sum + lept_CM + met\n",
    "\n",
    "final = get_vector_sum(jets_CM) + lept_CM + met_CM\n",
    "\n",
    "print(final)"
   ]
  },
  {
   "cell_type": "code",
   "execution_count": 19,
   "id": "b7dd6929",
   "metadata": {},
   "outputs": [
    {
     "name": "stdout",
     "output_type": "stream",
     "text": [
      "[9.95e-07, 3.9e-06, -2.85e-06, 4.62e-08, ... 1.15e-06, 5.15e-06, -4.76e-07]\n",
      "[-2.15e-07, -1.29e-08, -2.52e-06, 9.72e-09, ... 2.13e-06, 5e-07, 3.54e-07, -9.54e-07]\n"
     ]
    }
   ],
   "source": [
    "total_px = get_vector_sum(jets_CM)[\"x\"] + lept_CM[\"x\"] + met_CM[\"x\"]\n",
    "print(total_px)\n",
    "\n",
    "total_py = get_vector_sum(jets_CM)[\"y\"] + lept_CM[\"y\"] + met_CM[\"y\"]\n",
    "print(total_py)"
   ]
  },
  {
   "cell_type": "code",
   "execution_count": 20,
   "id": "16449bac",
   "metadata": {},
   "outputs": [
    {
     "name": "stderr",
     "output_type": "stream",
     "text": [
      "/Users/antoniopetre/anaconda3/lib/python3.9/site-packages/awkward/_connect/_numpy.py:195: RuntimeWarning: invalid value encountered in log\n",
      "  result = getattr(ufunc, method)(\n"
     ]
    },
    {
     "name": "stdout",
     "output_type": "stream",
     "text": [
      "Rapidity + [[-0.224, 0.441, 0.392, -1.04, 1.36], ... [0.226, -1.7, 1.66, -0.78, 0.278]]\n",
      "pt + [[70.7, 54.6, 39.7, 29.7, 27.2], [142, 125, ... 38.5], [136, 130, 113, 63.7, 37]]\n",
      "jet_pt:\n",
      "[[68.3, 58, 40.4, 30.7, 30.4], [142, 126, ... 33.6], [134, 128, 119, 65.3, 36.2]]\n",
      "phi + [[2.28, 0.438, 1.51, 0.571, 0.404], [1.18, ... [2.32, 1.61, 0.788, 0.448, 2.89]]\n",
      "COPY:\n",
      "[70.7, 54.6, 39.7, 29.7, 27.2]\n",
      "[-0.224, 0.441, 0.392, -1.04, 1.36]\n",
      "[2.28, 0.438, 1.51, 0.571, 0.404]\n",
      "584143 * var * Momentum4D[\"pt\": float64, \"eta\": float64, \"phi\": float64, \"btag\": float32, \"m\": float64, \"matched\": bool, \"prov\": float64]\n",
      "584143 * Momentum4D[\"pt\": float32, \"eta\": float32, \"phi\": float32, \"m\": float64]\n",
      "584143 * Momentum4D[\"x\": float64, \"y\": float64, \"z\": float64, \"tau\": float64, \"pt\": float32, \"m\": float64]\n"
     ]
    }
   ],
   "source": [
    "jets_CM_rapidity = jets_CM.rapidity\n",
    "jets_CM_rapidity2 = np.log((jets_CM[\"tau\"] + jets_CM[\"z\"])/(jets_CM[\"tau\"] - jets_CM[\"z\"]))/2\n",
    "if (np.sum(jets_CM_rapidity - jets_CM_rapidity2) > 1E-5):\n",
    "    print(\"PROBLEM rapidity\" + jets_CM_rapidity)\n",
    "\n",
    "print(f\"Rapidity + {jets_CM_rapidity}\")\n",
    "\n",
    "jets_CM_pt = np.sqrt(jets_CM[\"x\"]**2 + jets_CM[\"y\"]**2)\n",
    "print(f\"pt + {jets_CM_pt}\")\n",
    "print(f\"jet_pt:\")\n",
    "print(jets_CM[\"pt\"])\n",
    "\n",
    "jets_CM_phi = np.arccos(jets_CM[\"x\"]/jets_CM_pt)\n",
    "print(f\"phi + {jets_CM_phi}\")\n",
    "\n",
    "\n",
    "jets_copy = jets\n",
    "jets_copy[\"pt\"] = jets_CM_pt\n",
    "jets_copy[\"eta\"] = jets_CM_rapidity\n",
    "jets_copy[\"phi\"] = jets_CM_phi\n",
    "jets_copy[\"btag\"] = jets_copy[\"btag\"]\n",
    "jets_copy[\"m\"] = jets_copy[\"m\"]\n",
    "jets_copy[\"matched\"] = jets_copy[\"matched\"]\n",
    "jets_copy[\"prov\"] = jets_copy[\"prov\"]\n",
    "\n",
    "\n",
    "print(\"COPY:\")\n",
    "\n",
    "print(jets_copy[\"pt\"][0])\n",
    "print(jets_copy[\"eta\"][0])\n",
    "print(jets_copy[\"phi\"][0])\n",
    "\n",
    "print(jets_copy.type)\n",
    "\n",
    "print(lepton_reco.type)\n",
    "print(lept_CM.type)\n",
    "\n",
    "lept_CM_pt = np.sqrt(lept_CM[\"x\"]**2 + lept_CM[\"y\"]**2)\n",
    "met_CM_pt = np.sqrt(met_CM[\"x\"]**2 + met_CM[\"y\"]**2)"
   ]
  },
  {
   "cell_type": "code",
   "execution_count": 39,
   "id": "8b05a8ad",
   "metadata": {},
   "outputs": [],
   "source": [
    "class MyDataset(Dataset):\n",
    "    def __init__(self, root, object_types=[\"jets\", \"lepton_reco\", \"met\", \"boost\"], transform=None):\n",
    "        \n",
    "        self.root = root\n",
    "        self.transform = transform\n",
    "        self.object_types = object_types\n",
    "        \n",
    "        for object_type in self.object_types:\n",
    "            if not os.path.isfile(self.processed_file_names(object_type)):\n",
    "                print(\"Create new file for \" + object_type)\n",
    "                self.process(object_type)\n",
    "            else:\n",
    "                print(object_type + \" file already exists\")\n",
    "        \n",
    "    \n",
    "        self.mask_jets, self.data_jets = torch.load(self.processed_file_names(\"jets\"))\n",
    "        self.mask_lepton, self.data_lepton = torch.load(self.processed_file_names(\"lepton_reco\"))\n",
    "        self.mask_met, self.data_met = torch.load(self.processed_file_names(\"met\"))\n",
    "        self.mask_boost, self.data_boost = torch.load(self.processed_file_names(\"boost\"))\n",
    "        \n",
    "    @property\n",
    "    def raw_file_names(self):\n",
    "        return [self.root + '/all_jets_v6.parquet']\n",
    "\n",
    "    def processed_file_names(self, type):\n",
    "\n",
    "        return (self.root + '/processed/' + type + '_data.pt')\n",
    "    \n",
    "    def fields(self, type):\n",
    "        if type == \"jets\":\n",
    "            return [\"pt\", \"eta\", \"phi\", \"btag\", \"m\", \"matched\", \"prov\"]\n",
    "        \n",
    "        elif type == \"lepton_reco\":\n",
    "            return [\"pt\", \"eta\", \"phi\", \"m\"]\n",
    "        \n",
    "        elif type == \"met\":\n",
    "            return [\"pt\", \"eta\", \"phi\", \"m\"]\n",
    "        \n",
    "        elif type == \"boost\":\n",
    "            return [\"x\", \"y\", \"z\", \"t\"]\n",
    "        \n",
    "    def boost_CM(self, objects_array, boost, object_type):\n",
    "        objects_CM = objects_array.boost_beta3(-(boost_reco.to_beta3()))\n",
    "\n",
    "        mask_py = ak.mask(objects_CM, objects_CM[\"y\"] > 0)\n",
    "\n",
    "        objects_CM_rapidity = objects_CM.rapidity\n",
    "        #objects_CM_rapidity2 = np.log((objects_CM[\"tau\"] + objects_CM[\"z\"])/(objects_CM[\"tau\"] - objects_CM[\"z\"]))/2\n",
    "        #if (np.sum(objects_CM_rapidity - objects_CM_rapidity2) > 1E-5):\n",
    "        #    print(\"PROBLEM rapidity\" + objects_CM_rapidity)\n",
    "\n",
    "        objects_CM_pt = np.sqrt(objects_CM[\"x\"]*objects_CM[\"x\"] + objects_CM[\"y\"]*objects_CM[\"y\"])\n",
    "\n",
    "        objects_CM_phi = np.arccos(objects_CM[\"x\"]/objects_CM_pt)\n",
    "\n",
    "        objects_copy = objects_array\n",
    "        objects_copy[\"pt\"] = objects_CM_pt\n",
    "        objects_copy[\"eta\"] = objects_CM_rapidity\n",
    "        objects_copy[\"phi\"] = objects_CM_phi\n",
    "\n",
    "        \n",
    "        print(mask_py.type)\n",
    "        #print(objects_copy[0][\"phi\"])\n",
    "        print(mask_py[0][\"y\"])\n",
    "        #print(objects_copy[\"phi\"].type)\n",
    "        objects_copy[\"phi\"] += mask_py[\"y\"]*0 - 7\n",
    "\n",
    "        if object_type == \"jets\":\n",
    "            objects_copy[\"btag\"] = objects_array[\"btag\"]\n",
    "            objects_copy[\"m\"] = objects_array[\"m\"]\n",
    "            objects_copy[\"matched\"] = objects_array[\"matched\"]\n",
    "            objects_copy[\"prov\"] = objects_array[\"prov\"]\n",
    "        else:\n",
    "            objects_copy[\"m\"] = objects_array[\"m\"]\n",
    "\n",
    "        #print(objects_copy.type)\n",
    "\n",
    "        return mask_py, objects_copy\n",
    "\n",
    "        \n",
    "    def Reshape(self, input, value, ax):\n",
    "        max_no = ak.max(ak.num(input, axis=ax))\n",
    "        input_padded =  ak.pad_none(input, max_no, axis=ax)\n",
    "        input_filled = ak.fill_none(input_padded, value, axis=ax)\n",
    "    \n",
    "        return input_filled\n",
    "        \n",
    "    def add_boost(self, boost):\n",
    "\n",
    "        boost_list = to_flat_numpy(boost, self.fields(\"boost\"), axis=1, allow_missing=False)\n",
    "        return boost_list\n",
    "    \n",
    "    # Get mask for object with pt = 0\n",
    "    def get_mask_pt(self, objects_array):\n",
    "        a = ma.masked_equal(objects_array, 0)\n",
    "        mask = ma.getmaskarray(a)\n",
    "        return mask[:, :, 0]\n",
    "\n",
    "    def process(self, object_type):\n",
    "                \n",
    "        for file in self.raw_file_names:\n",
    "            df = ak.from_parquet(file)\n",
    "            \n",
    "            if (object_type == \"boost\"):\n",
    "                objects = boost_reco                \n",
    "\n",
    "            else:\n",
    "                objects = ak.with_name(df[object_type], name=\"Momentum4D\")\n",
    "                mask_py, objects = self.boost_CM(objects, boost_reco, object_type)\n",
    "\n",
    "            #print(mask_py.type)\n",
    "            #print(mask_py)\n",
    "\n",
    "\n",
    "\n",
    "            if object_type == \"jets\":\n",
    "                objects = self.Reshape(objects, struct_jets, 1)\n",
    "                \n",
    "            d_list = to_flat_numpy(objects, self.fields(object_type), axis=1, allow_missing=False)\n",
    "\n",
    "            if object_type == \"jets\":\n",
    "                d_list = np.transpose(d_list, (0, 2, 1))\n",
    "\n",
    "            if (object_type == \"lepton_reco\" or object_type == \"met\" or object_type == \"boost\"):\n",
    "                d_list = np.expand_dims(d_list, axis=1)\n",
    "                    \n",
    "            mask = self.get_mask_pt(d_list)\n",
    "\n",
    "            #d_list[mask_phi] = 2*3.141359 - d_list[mask_phi]\n",
    "            #print(f\"Data_shape: {object_type} \" + f\"{d_list.shape}\")\n",
    "            #print(\"Mask_shape: \" + f\"{mask.shape}\")\n",
    "\n",
    "            tensor_data = torch.tensor(d_list, dtype = torch.float)\n",
    "            tensor_mask = torch.tensor(mask, dtype = torch.float)\n",
    "            print(\"\")\n",
    "\n",
    "            torch.save((tensor_mask, tensor_data), self.processed_file_names(object_type))\n",
    "                    \n",
    "    def __getitem__(self, index):\n",
    "\n",
    "        return self.mask_lepton[index], self.data_lepton[index], self.mask_jets[index], self.data_jets[index], self.mask_met[index], self.data_met[index], self.mask_boost[index], self.data_boost[index]\n",
    "            \n",
    "    def __len__(self):\n",
    "        return len(self.data)\n",
    "    \n",
    "    # change coordinate of boost - not used\n",
    "    def change_coord(self, boost):\n",
    "\n",
    "        np.set_printoptions(precision=7)\n",
    "\n",
    "\n",
    "        rapidity = boost_reco.rapidity\n",
    "        rapidity2 = np.log((boost_reco[\"t\"] + boost_reco[\"z\"])/(boost_reco[\"t\"] - boost_reco[\"z\"]))/2\n",
    "        if (np.sum(rapidity - rapidity2) > 1E-5):\n",
    "            print(\"PROBLEM rapidity\" + rapidity2)\n",
    "\n",
    "        pt = np.sqrt(boost_reco[\"x\"]**2 + boost_reco[\"y\"]**2)\n",
    "        phi = np.emath.arccos(boost_reco[\"x\"]/pt)\n",
    "        rapidity2 = np.expand_dims(rapidity2, axis=1)\n",
    "\n",
    "        pt = np.expand_dims(pt, axis=1)\n",
    "        phi = np.expand_dims(phi, axis=1)\n",
    "        m = np.zeros((584143, 1))\n",
    "\n",
    "        rapidity2 = np.array(rapidity2)\n",
    "        pt = np.array(pt)\n",
    "        phi = np.array(phi)\n",
    "        \n",
    "        boost_array = np.concatenate((pt, rapidity2, phi, m), axis=1)\n",
    "        boost_array = np.expand_dims(boost_array, axis=1)\n",
    "\n",
    "        return boost_array"
   ]
  },
  {
   "cell_type": "code",
   "execution_count": 40,
   "id": "6985898c",
   "metadata": {},
   "outputs": [
    {
     "name": "stdout",
     "output_type": "stream",
     "text": [
      "Create new file for jets\n",
      "584143 * var * ?Momentum4D[\"x\": float64, \"y\": float64, \"z\": float64, \"tau\": float64, \"pt\": float32, \"btag\": float32, \"m\": float64, \"matched\": bool, \"prov\": float64]\n",
      "[53.5, None, None, 16.1, 10.7]\n"
     ]
    },
    {
     "ename": "TypeError",
     "evalue": "operand type(s) all returned NotImplemented from __array_ufunc__(<ufunc 'add'>, '__call__', <Array [[2.28, 0.438, 1.51, ... 0.448, 2.89]] type='584143 * var * float64'>, <Array [[-7, None, None, -7, ... -7, None, -7]] type='584143 * var * ?float64'>, out=(<Array [[2.28, 0.438, 1.51, ... 0.448, 2.89]] type='584143 * var * float64'>,)): 'Array', 'Array', 'Array'",
     "output_type": "error",
     "traceback": [
      "\u001b[0;31m---------------------------------------------------------------------------\u001b[0m",
      "\u001b[0;31mTypeError\u001b[0m                                 Traceback (most recent call last)",
      "\u001b[0;32m/var/folders/9c/j6v7ykys3gx9pflm9phswpmw0000gn/T/ipykernel_19867/2586386231.py\u001b[0m in \u001b[0;36m<module>\u001b[0;34m\u001b[0m\n\u001b[0;32m----> 1\u001b[0;31m \u001b[0mdata\u001b[0m \u001b[0;34m=\u001b[0m \u001b[0mMyDataset\u001b[0m\u001b[0;34m(\u001b[0m\u001b[0;34m\".\"\u001b[0m\u001b[0;34m)\u001b[0m\u001b[0;34m\u001b[0m\u001b[0;34m\u001b[0m\u001b[0m\n\u001b[0m",
      "\u001b[0;32m/var/folders/9c/j6v7ykys3gx9pflm9phswpmw0000gn/T/ipykernel_19867/664039596.py\u001b[0m in \u001b[0;36m__init__\u001b[0;34m(self, root, object_types, transform)\u001b[0m\n\u001b[1;32m      9\u001b[0m             \u001b[0;32mif\u001b[0m \u001b[0;32mnot\u001b[0m \u001b[0mos\u001b[0m\u001b[0;34m.\u001b[0m\u001b[0mpath\u001b[0m\u001b[0;34m.\u001b[0m\u001b[0misfile\u001b[0m\u001b[0;34m(\u001b[0m\u001b[0mself\u001b[0m\u001b[0;34m.\u001b[0m\u001b[0mprocessed_file_names\u001b[0m\u001b[0;34m(\u001b[0m\u001b[0mobject_type\u001b[0m\u001b[0;34m)\u001b[0m\u001b[0;34m)\u001b[0m\u001b[0;34m:\u001b[0m\u001b[0;34m\u001b[0m\u001b[0;34m\u001b[0m\u001b[0m\n\u001b[1;32m     10\u001b[0m                 \u001b[0mprint\u001b[0m\u001b[0;34m(\u001b[0m\u001b[0;34m\"Create new file for \"\u001b[0m \u001b[0;34m+\u001b[0m \u001b[0mobject_type\u001b[0m\u001b[0;34m)\u001b[0m\u001b[0;34m\u001b[0m\u001b[0;34m\u001b[0m\u001b[0m\n\u001b[0;32m---> 11\u001b[0;31m                 \u001b[0mself\u001b[0m\u001b[0;34m.\u001b[0m\u001b[0mprocess\u001b[0m\u001b[0;34m(\u001b[0m\u001b[0mobject_type\u001b[0m\u001b[0;34m)\u001b[0m\u001b[0;34m\u001b[0m\u001b[0;34m\u001b[0m\u001b[0m\n\u001b[0m\u001b[1;32m     12\u001b[0m             \u001b[0;32melse\u001b[0m\u001b[0;34m:\u001b[0m\u001b[0;34m\u001b[0m\u001b[0;34m\u001b[0m\u001b[0m\n\u001b[1;32m     13\u001b[0m                 \u001b[0mprint\u001b[0m\u001b[0;34m(\u001b[0m\u001b[0mobject_type\u001b[0m \u001b[0;34m+\u001b[0m \u001b[0;34m\" file already exists\"\u001b[0m\u001b[0;34m)\u001b[0m\u001b[0;34m\u001b[0m\u001b[0;34m\u001b[0m\u001b[0m\n",
      "\u001b[0;32m/var/folders/9c/j6v7ykys3gx9pflm9phswpmw0000gn/T/ipykernel_19867/664039596.py\u001b[0m in \u001b[0;36mprocess\u001b[0;34m(self, object_type)\u001b[0m\n\u001b[1;32m    107\u001b[0m             \u001b[0;32melse\u001b[0m\u001b[0;34m:\u001b[0m\u001b[0;34m\u001b[0m\u001b[0;34m\u001b[0m\u001b[0m\n\u001b[1;32m    108\u001b[0m                 \u001b[0mobjects\u001b[0m \u001b[0;34m=\u001b[0m \u001b[0mak\u001b[0m\u001b[0;34m.\u001b[0m\u001b[0mwith_name\u001b[0m\u001b[0;34m(\u001b[0m\u001b[0mdf\u001b[0m\u001b[0;34m[\u001b[0m\u001b[0mobject_type\u001b[0m\u001b[0;34m]\u001b[0m\u001b[0;34m,\u001b[0m \u001b[0mname\u001b[0m\u001b[0;34m=\u001b[0m\u001b[0;34m\"Momentum4D\"\u001b[0m\u001b[0;34m)\u001b[0m\u001b[0;34m\u001b[0m\u001b[0;34m\u001b[0m\u001b[0m\n\u001b[0;32m--> 109\u001b[0;31m                 \u001b[0mmask_py\u001b[0m\u001b[0;34m,\u001b[0m \u001b[0mobjects\u001b[0m \u001b[0;34m=\u001b[0m \u001b[0mself\u001b[0m\u001b[0;34m.\u001b[0m\u001b[0mboost_CM\u001b[0m\u001b[0;34m(\u001b[0m\u001b[0mobjects\u001b[0m\u001b[0;34m,\u001b[0m \u001b[0mboost_reco\u001b[0m\u001b[0;34m,\u001b[0m \u001b[0mobject_type\u001b[0m\u001b[0;34m)\u001b[0m\u001b[0;34m\u001b[0m\u001b[0;34m\u001b[0m\u001b[0m\n\u001b[0m\u001b[1;32m    110\u001b[0m \u001b[0;34m\u001b[0m\u001b[0m\n\u001b[1;32m    111\u001b[0m             \u001b[0;31m#print(mask_py.type)\u001b[0m\u001b[0;34m\u001b[0m\u001b[0;34m\u001b[0m\u001b[0m\n",
      "\u001b[0;32m/var/folders/9c/j6v7ykys3gx9pflm9phswpmw0000gn/T/ipykernel_19867/664039596.py\u001b[0m in \u001b[0;36mboost_CM\u001b[0;34m(self, objects_array, boost, object_type)\u001b[0m\n\u001b[1;32m     64\u001b[0m         \u001b[0mprint\u001b[0m\u001b[0;34m(\u001b[0m\u001b[0mmask_py\u001b[0m\u001b[0;34m[\u001b[0m\u001b[0;36m0\u001b[0m\u001b[0;34m]\u001b[0m\u001b[0;34m[\u001b[0m\u001b[0;34m\"y\"\u001b[0m\u001b[0;34m]\u001b[0m\u001b[0;34m)\u001b[0m\u001b[0;34m\u001b[0m\u001b[0;34m\u001b[0m\u001b[0m\n\u001b[1;32m     65\u001b[0m         \u001b[0;31m#print(objects_copy[\"phi\"].type)\u001b[0m\u001b[0;34m\u001b[0m\u001b[0;34m\u001b[0m\u001b[0m\n\u001b[0;32m---> 66\u001b[0;31m         \u001b[0mobjects_copy\u001b[0m\u001b[0;34m[\u001b[0m\u001b[0;34m\"phi\"\u001b[0m\u001b[0;34m]\u001b[0m \u001b[0;34m+=\u001b[0m \u001b[0mmask_py\u001b[0m\u001b[0;34m[\u001b[0m\u001b[0;34m\"y\"\u001b[0m\u001b[0;34m]\u001b[0m\u001b[0;34m*\u001b[0m\u001b[0;36m0\u001b[0m \u001b[0;34m-\u001b[0m \u001b[0;36m7\u001b[0m\u001b[0;34m\u001b[0m\u001b[0;34m\u001b[0m\u001b[0m\n\u001b[0m\u001b[1;32m     67\u001b[0m \u001b[0;34m\u001b[0m\u001b[0m\n\u001b[1;32m     68\u001b[0m         \u001b[0;32mif\u001b[0m \u001b[0mobject_type\u001b[0m \u001b[0;34m==\u001b[0m \u001b[0;34m\"jets\"\u001b[0m\u001b[0;34m:\u001b[0m\u001b[0;34m\u001b[0m\u001b[0;34m\u001b[0m\u001b[0m\n",
      "\u001b[0;32m~/anaconda3/lib/python3.9/site-packages/numpy/lib/mixins.py\u001b[0m in \u001b[0;36mfunc\u001b[0;34m(self, other)\u001b[0m\n\u001b[1;32m     37\u001b[0m     \u001b[0;34m\"\"\"Implement an in-place binary method with a ufunc, e.g., __iadd__.\"\"\"\u001b[0m\u001b[0;34m\u001b[0m\u001b[0;34m\u001b[0m\u001b[0m\n\u001b[1;32m     38\u001b[0m     \u001b[0;32mdef\u001b[0m \u001b[0mfunc\u001b[0m\u001b[0;34m(\u001b[0m\u001b[0mself\u001b[0m\u001b[0;34m,\u001b[0m \u001b[0mother\u001b[0m\u001b[0;34m)\u001b[0m\u001b[0;34m:\u001b[0m\u001b[0;34m\u001b[0m\u001b[0;34m\u001b[0m\u001b[0m\n\u001b[0;32m---> 39\u001b[0;31m         \u001b[0;32mreturn\u001b[0m \u001b[0mufunc\u001b[0m\u001b[0;34m(\u001b[0m\u001b[0mself\u001b[0m\u001b[0;34m,\u001b[0m \u001b[0mother\u001b[0m\u001b[0;34m,\u001b[0m \u001b[0mout\u001b[0m\u001b[0;34m=\u001b[0m\u001b[0;34m(\u001b[0m\u001b[0mself\u001b[0m\u001b[0;34m,\u001b[0m\u001b[0;34m)\u001b[0m\u001b[0;34m)\u001b[0m\u001b[0;34m\u001b[0m\u001b[0;34m\u001b[0m\u001b[0m\n\u001b[0m\u001b[1;32m     40\u001b[0m     \u001b[0mfunc\u001b[0m\u001b[0;34m.\u001b[0m\u001b[0m__name__\u001b[0m \u001b[0;34m=\u001b[0m \u001b[0;34m'__i{}__'\u001b[0m\u001b[0;34m.\u001b[0m\u001b[0mformat\u001b[0m\u001b[0;34m(\u001b[0m\u001b[0mname\u001b[0m\u001b[0;34m)\u001b[0m\u001b[0;34m\u001b[0m\u001b[0;34m\u001b[0m\u001b[0m\n\u001b[1;32m     41\u001b[0m     \u001b[0;32mreturn\u001b[0m \u001b[0mfunc\u001b[0m\u001b[0;34m\u001b[0m\u001b[0;34m\u001b[0m\u001b[0m\n",
      "\u001b[0;31mTypeError\u001b[0m: operand type(s) all returned NotImplemented from __array_ufunc__(<ufunc 'add'>, '__call__', <Array [[2.28, 0.438, 1.51, ... 0.448, 2.89]] type='584143 * var * float64'>, <Array [[-7, None, None, -7, ... -7, None, -7]] type='584143 * var * ?float64'>, out=(<Array [[2.28, 0.438, 1.51, ... 0.448, 2.89]] type='584143 * var * float64'>,)): 'Array', 'Array', 'Array'"
     ]
    }
   ],
   "source": [
    "data = MyDataset(\".\")"
   ]
  },
  {
   "cell_type": "code",
   "execution_count": 134,
   "id": "f3f77005",
   "metadata": {},
   "outputs": [
    {
     "name": "stdout",
     "output_type": "stream",
     "text": [
      "torch.Size([584143, 15])\n",
      "tensor([[ True,  True,  True,  ..., False, False, False],\n",
      "        [ True,  True,  True,  ..., False, False, False],\n",
      "        [ True,  True,  True,  ..., False, False, False],\n",
      "        ...,\n",
      "        [ True,  True,  True,  ..., False, False, False],\n",
      "        [ True,  True,  True,  ..., False, False, False],\n",
      "        [ True,  True,  True,  ..., False, False, False]])\n"
     ]
    }
   ],
   "source": [
    "x = data.data_jets[:,:,1] > 0\n",
    "\n",
    "print(x.shape)\n",
    "print(x)\n",
    "\n",
    "print(data.data_jets)"
   ]
  },
  {
   "cell_type": "code",
   "execution_count": 130,
   "id": "9fd998c9",
   "metadata": {},
   "outputs": [
    {
     "name": "stdout",
     "output_type": "stream",
     "text": [
      "torch.Size([584143, 15])\n",
      "torch.Size([584143, 1])\n"
     ]
    }
   ],
   "source": [
    "jets_px = np.cos(data.data_jets[:,:,2])*data.data_jets[:,:,0]\n",
    "jets_py = np.sin(data.data_jets[:,:,2])*data.data_jets[:,:,0]\n",
    "\n",
    "lept_px = np.cos(data.data_lepton[:,:,2])*data.data_lepton[:,:,0]\n",
    "lept_py = np.sin(data.data_lepton[:,:,2])*data.data_lepton[:,:,0]\n",
    "\n",
    "met_px = np.cos(data.data_met[:,:,2])*data.data_met[:,:,0]\n",
    "met_py = np.sin(data.data_met[:,:,2])*data.data_met[:,:,0]\n",
    "\n",
    "print(jets_px.shape)\n",
    "print(lept_px.shape)"
   ]
  },
  {
   "cell_type": "code",
   "execution_count": 131,
   "id": "bbaf8726",
   "metadata": {},
   "outputs": [
    {
     "name": "stdout",
     "output_type": "stream",
     "text": [
      "torch.Size([584143, 1])\n",
      "torch.Size([584143, 1])\n",
      "tensor([  65.9630,  102.2432, -241.2972,  ..., -182.0020,   19.6934,\n",
      "        -100.2424])\n",
      "tensor([219.6747, 529.6730, 318.7186,  ..., 590.9967, 408.3125, 505.4665])\n",
      "tensor(2.4950e+08)\n",
      "tensor(-988457.)\n"
     ]
    }
   ],
   "source": [
    "jets_px_sum = torch.sum(jets_px, dim=1)\n",
    "jets_px_sum = torch.unsqueeze(jets_px_sum, 1)\n",
    "print(jets_px_sum.shape)\n",
    "\n",
    "jets_py_sum = torch.sum(jets_py, dim=1)\n",
    "jets_py_sum = torch.unsqueeze(jets_py_sum, 1)\n",
    "print(jets_py_sum.shape)\n",
    "\n",
    "total_px = torch.cat((jets_px_sum, lept_px, met_px), dim=1)\n",
    "total_py = torch.cat((jets_py_sum, lept_py, met_py), dim=1)\n",
    "\n",
    "sum_px_event = torch.sum(total_px, dim=1)\n",
    "sum_py_event = torch.sum(total_py, dim=1)\n",
    "\n",
    "print(sum_px_event)\n",
    "print(sum_py_event)\n",
    "\n",
    "print(torch.sum(sum_py_event))\n",
    "print(torch.sum(sum_px_event))"
   ]
  },
  {
   "cell_type": "code",
   "execution_count": 101,
   "id": "1c2a2a71",
   "metadata": {},
   "outputs": [
    {
     "name": "stdout",
     "output_type": "stream",
     "text": [
      "tensor([70.7013, 54.6426, 39.7297, 29.7051, 27.1881,  0.0000,  0.0000,  0.0000,\n",
      "         0.0000,  0.0000,  0.0000,  0.0000,  0.0000,  0.0000,  0.0000])\n",
      "tensor([0., 0., 0., 0., 0., 1., 1., 1., 1., 1., 1., 1., 1., 1., 1.])\n"
     ]
    }
   ],
   "source": [
    "print(data.data_jets[0, :, 0])\n",
    "print(data.mask_jets[0])"
   ]
  },
  {
   "cell_type": "code",
   "execution_count": 95,
   "id": "db460852",
   "metadata": {},
   "outputs": [
    {
     "name": "stdout",
     "output_type": "stream",
     "text": [
      "torch.Size([584143, 15])\n",
      "torch.Size([584143, 1])\n",
      "torch.Size([584143, 1])\n",
      "torch.Size([584143, 1])\n"
     ]
    }
   ],
   "source": [
    "print(data.mask_jets.shape)\n",
    "print(data.mask_lepton.shape)\n",
    "print(data.mask_met.shape)\n",
    "print(data.mask_boost.shape)"
   ]
  },
  {
   "cell_type": "code",
   "execution_count": 96,
   "id": "d7029fdb",
   "metadata": {},
   "outputs": [
    {
     "ename": "AttributeError",
     "evalue": "'MyDataset' object has no attribute 'data'",
     "output_type": "error",
     "traceback": [
      "\u001b[0;31m---------------------------------------------------------------------------\u001b[0m",
      "\u001b[0;31mAttributeError\u001b[0m                            Traceback (most recent call last)",
      "\u001b[0;32m/var/folders/9c/j6v7ykys3gx9pflm9phswpmw0000gn/T/ipykernel_18701/2995625697.py\u001b[0m in \u001b[0;36m<module>\u001b[0;34m\u001b[0m\n\u001b[1;32m      3\u001b[0m \u001b[0mdata_loaded\u001b[0m \u001b[0;34m=\u001b[0m \u001b[0mDataLoader\u001b[0m\u001b[0;34m(\u001b[0m\u001b[0mdata\u001b[0m\u001b[0;34m,\u001b[0m \u001b[0mbatch_size\u001b[0m\u001b[0;34m=\u001b[0m\u001b[0;36m64\u001b[0m\u001b[0;34m,\u001b[0m \u001b[0mdrop_last\u001b[0m\u001b[0;34m=\u001b[0m\u001b[0;32mTrue\u001b[0m\u001b[0;34m)\u001b[0m\u001b[0;34m\u001b[0m\u001b[0;34m\u001b[0m\u001b[0m\n\u001b[1;32m      4\u001b[0m \u001b[0;34m\u001b[0m\u001b[0m\n\u001b[0;32m----> 5\u001b[0;31m \u001b[0mlepton_batch\u001b[0m\u001b[0;34m,\u001b[0m \u001b[0mjets_batch\u001b[0m\u001b[0;34m,\u001b[0m \u001b[0mmet_batch\u001b[0m \u001b[0;34m=\u001b[0m \u001b[0mnext\u001b[0m\u001b[0;34m(\u001b[0m\u001b[0miter\u001b[0m\u001b[0;34m(\u001b[0m\u001b[0mdata_loaded\u001b[0m\u001b[0;34m)\u001b[0m\u001b[0;34m)\u001b[0m\u001b[0;34m\u001b[0m\u001b[0;34m\u001b[0m\u001b[0m\n\u001b[0m\u001b[1;32m      6\u001b[0m \u001b[0;34m\u001b[0m\u001b[0m\n\u001b[1;32m      7\u001b[0m \u001b[0;31m#mask_jets_training = DataLoader(mask_jets, batch_size=64, shuffle=False, drop_last=True)\u001b[0m\u001b[0;34m\u001b[0m\u001b[0;34m\u001b[0m\u001b[0m\n",
      "\u001b[0;32m~/anaconda3/lib/python3.9/site-packages/torch/utils/data/dataloader.py\u001b[0m in \u001b[0;36m__next__\u001b[0;34m(self)\u001b[0m\n\u001b[1;32m    626\u001b[0m                 \u001b[0;31m# TODO(https://github.com/pytorch/pytorch/issues/76750)\u001b[0m\u001b[0;34m\u001b[0m\u001b[0;34m\u001b[0m\u001b[0m\n\u001b[1;32m    627\u001b[0m                 \u001b[0mself\u001b[0m\u001b[0;34m.\u001b[0m\u001b[0m_reset\u001b[0m\u001b[0;34m(\u001b[0m\u001b[0;34m)\u001b[0m  \u001b[0;31m# type: ignore[call-arg]\u001b[0m\u001b[0;34m\u001b[0m\u001b[0;34m\u001b[0m\u001b[0m\n\u001b[0;32m--> 628\u001b[0;31m             \u001b[0mdata\u001b[0m \u001b[0;34m=\u001b[0m \u001b[0mself\u001b[0m\u001b[0;34m.\u001b[0m\u001b[0m_next_data\u001b[0m\u001b[0;34m(\u001b[0m\u001b[0;34m)\u001b[0m\u001b[0;34m\u001b[0m\u001b[0;34m\u001b[0m\u001b[0m\n\u001b[0m\u001b[1;32m    629\u001b[0m             \u001b[0mself\u001b[0m\u001b[0;34m.\u001b[0m\u001b[0m_num_yielded\u001b[0m \u001b[0;34m+=\u001b[0m \u001b[0;36m1\u001b[0m\u001b[0;34m\u001b[0m\u001b[0;34m\u001b[0m\u001b[0m\n\u001b[1;32m    630\u001b[0m             \u001b[0;32mif\u001b[0m \u001b[0mself\u001b[0m\u001b[0;34m.\u001b[0m\u001b[0m_dataset_kind\u001b[0m \u001b[0;34m==\u001b[0m \u001b[0m_DatasetKind\u001b[0m\u001b[0;34m.\u001b[0m\u001b[0mIterable\u001b[0m \u001b[0;32mand\u001b[0m\u001b[0;31m \u001b[0m\u001b[0;31m\\\u001b[0m\u001b[0;34m\u001b[0m\u001b[0;34m\u001b[0m\u001b[0m\n",
      "\u001b[0;32m~/anaconda3/lib/python3.9/site-packages/torch/utils/data/dataloader.py\u001b[0m in \u001b[0;36m_next_data\u001b[0;34m(self)\u001b[0m\n\u001b[1;32m    668\u001b[0m \u001b[0;34m\u001b[0m\u001b[0m\n\u001b[1;32m    669\u001b[0m     \u001b[0;32mdef\u001b[0m \u001b[0m_next_data\u001b[0m\u001b[0;34m(\u001b[0m\u001b[0mself\u001b[0m\u001b[0;34m)\u001b[0m\u001b[0;34m:\u001b[0m\u001b[0;34m\u001b[0m\u001b[0;34m\u001b[0m\u001b[0m\n\u001b[0;32m--> 670\u001b[0;31m         \u001b[0mindex\u001b[0m \u001b[0;34m=\u001b[0m \u001b[0mself\u001b[0m\u001b[0;34m.\u001b[0m\u001b[0m_next_index\u001b[0m\u001b[0;34m(\u001b[0m\u001b[0;34m)\u001b[0m  \u001b[0;31m# may raise StopIteration\u001b[0m\u001b[0;34m\u001b[0m\u001b[0;34m\u001b[0m\u001b[0m\n\u001b[0m\u001b[1;32m    671\u001b[0m         \u001b[0mdata\u001b[0m \u001b[0;34m=\u001b[0m \u001b[0mself\u001b[0m\u001b[0;34m.\u001b[0m\u001b[0m_dataset_fetcher\u001b[0m\u001b[0;34m.\u001b[0m\u001b[0mfetch\u001b[0m\u001b[0;34m(\u001b[0m\u001b[0mindex\u001b[0m\u001b[0;34m)\u001b[0m  \u001b[0;31m# may raise StopIteration\u001b[0m\u001b[0;34m\u001b[0m\u001b[0;34m\u001b[0m\u001b[0m\n\u001b[1;32m    672\u001b[0m         \u001b[0;32mif\u001b[0m \u001b[0mself\u001b[0m\u001b[0;34m.\u001b[0m\u001b[0m_pin_memory\u001b[0m\u001b[0;34m:\u001b[0m\u001b[0;34m\u001b[0m\u001b[0;34m\u001b[0m\u001b[0m\n",
      "\u001b[0;32m~/anaconda3/lib/python3.9/site-packages/torch/utils/data/dataloader.py\u001b[0m in \u001b[0;36m_next_index\u001b[0;34m(self)\u001b[0m\n\u001b[1;32m    616\u001b[0m \u001b[0;34m\u001b[0m\u001b[0m\n\u001b[1;32m    617\u001b[0m     \u001b[0;32mdef\u001b[0m \u001b[0m_next_index\u001b[0m\u001b[0;34m(\u001b[0m\u001b[0mself\u001b[0m\u001b[0;34m)\u001b[0m\u001b[0;34m:\u001b[0m\u001b[0;34m\u001b[0m\u001b[0;34m\u001b[0m\u001b[0m\n\u001b[0;32m--> 618\u001b[0;31m         \u001b[0;32mreturn\u001b[0m \u001b[0mnext\u001b[0m\u001b[0;34m(\u001b[0m\u001b[0mself\u001b[0m\u001b[0;34m.\u001b[0m\u001b[0m_sampler_iter\u001b[0m\u001b[0;34m)\u001b[0m  \u001b[0;31m# may raise StopIteration\u001b[0m\u001b[0;34m\u001b[0m\u001b[0;34m\u001b[0m\u001b[0m\n\u001b[0m\u001b[1;32m    619\u001b[0m \u001b[0;34m\u001b[0m\u001b[0m\n\u001b[1;32m    620\u001b[0m     \u001b[0;32mdef\u001b[0m \u001b[0m_next_data\u001b[0m\u001b[0;34m(\u001b[0m\u001b[0mself\u001b[0m\u001b[0;34m)\u001b[0m\u001b[0;34m:\u001b[0m\u001b[0;34m\u001b[0m\u001b[0;34m\u001b[0m\u001b[0m\n",
      "\u001b[0;32m~/anaconda3/lib/python3.9/site-packages/torch/utils/data/sampler.py\u001b[0m in \u001b[0;36m__iter__\u001b[0;34m(self)\u001b[0m\n\u001b[1;32m    242\u001b[0m         \u001b[0;31m# Implemented based on the benchmarking in https://github.com/pytorch/pytorch/pull/76951\u001b[0m\u001b[0;34m\u001b[0m\u001b[0;34m\u001b[0m\u001b[0m\n\u001b[1;32m    243\u001b[0m         \u001b[0;32mif\u001b[0m \u001b[0mself\u001b[0m\u001b[0;34m.\u001b[0m\u001b[0mdrop_last\u001b[0m\u001b[0;34m:\u001b[0m\u001b[0;34m\u001b[0m\u001b[0;34m\u001b[0m\u001b[0m\n\u001b[0;32m--> 244\u001b[0;31m             \u001b[0msampler_iter\u001b[0m \u001b[0;34m=\u001b[0m \u001b[0miter\u001b[0m\u001b[0;34m(\u001b[0m\u001b[0mself\u001b[0m\u001b[0;34m.\u001b[0m\u001b[0msampler\u001b[0m\u001b[0;34m)\u001b[0m\u001b[0;34m\u001b[0m\u001b[0;34m\u001b[0m\u001b[0m\n\u001b[0m\u001b[1;32m    245\u001b[0m             \u001b[0;32mwhile\u001b[0m \u001b[0;32mTrue\u001b[0m\u001b[0;34m:\u001b[0m\u001b[0;34m\u001b[0m\u001b[0;34m\u001b[0m\u001b[0m\n\u001b[1;32m    246\u001b[0m                 \u001b[0;32mtry\u001b[0m\u001b[0;34m:\u001b[0m\u001b[0;34m\u001b[0m\u001b[0;34m\u001b[0m\u001b[0m\n",
      "\u001b[0;32m~/anaconda3/lib/python3.9/site-packages/torch/utils/data/sampler.py\u001b[0m in \u001b[0;36m__iter__\u001b[0;34m(self)\u001b[0m\n\u001b[1;32m     74\u001b[0m \u001b[0;34m\u001b[0m\u001b[0m\n\u001b[1;32m     75\u001b[0m     \u001b[0;32mdef\u001b[0m \u001b[0m__iter__\u001b[0m\u001b[0;34m(\u001b[0m\u001b[0mself\u001b[0m\u001b[0;34m)\u001b[0m \u001b[0;34m->\u001b[0m \u001b[0mIterator\u001b[0m\u001b[0;34m[\u001b[0m\u001b[0mint\u001b[0m\u001b[0;34m]\u001b[0m\u001b[0;34m:\u001b[0m\u001b[0;34m\u001b[0m\u001b[0;34m\u001b[0m\u001b[0m\n\u001b[0;32m---> 76\u001b[0;31m         \u001b[0;32mreturn\u001b[0m \u001b[0miter\u001b[0m\u001b[0;34m(\u001b[0m\u001b[0mrange\u001b[0m\u001b[0;34m(\u001b[0m\u001b[0mlen\u001b[0m\u001b[0;34m(\u001b[0m\u001b[0mself\u001b[0m\u001b[0;34m.\u001b[0m\u001b[0mdata_source\u001b[0m\u001b[0;34m)\u001b[0m\u001b[0;34m)\u001b[0m\u001b[0;34m)\u001b[0m\u001b[0;34m\u001b[0m\u001b[0;34m\u001b[0m\u001b[0m\n\u001b[0m\u001b[1;32m     77\u001b[0m \u001b[0;34m\u001b[0m\u001b[0m\n\u001b[1;32m     78\u001b[0m     \u001b[0;32mdef\u001b[0m \u001b[0m__len__\u001b[0m\u001b[0;34m(\u001b[0m\u001b[0mself\u001b[0m\u001b[0;34m)\u001b[0m \u001b[0;34m->\u001b[0m \u001b[0mint\u001b[0m\u001b[0;34m:\u001b[0m\u001b[0;34m\u001b[0m\u001b[0;34m\u001b[0m\u001b[0m\n",
      "\u001b[0;32m/var/folders/9c/j6v7ykys3gx9pflm9phswpmw0000gn/T/ipykernel_18701/1427375813.py\u001b[0m in \u001b[0;36m__len__\u001b[0;34m(self)\u001b[0m\n\u001b[1;32m    127\u001b[0m \u001b[0;34m\u001b[0m\u001b[0m\n\u001b[1;32m    128\u001b[0m     \u001b[0;32mdef\u001b[0m \u001b[0m__len__\u001b[0m\u001b[0;34m(\u001b[0m\u001b[0mself\u001b[0m\u001b[0;34m)\u001b[0m\u001b[0;34m:\u001b[0m\u001b[0;34m\u001b[0m\u001b[0;34m\u001b[0m\u001b[0m\n\u001b[0;32m--> 129\u001b[0;31m         \u001b[0;32mreturn\u001b[0m \u001b[0mlen\u001b[0m\u001b[0;34m(\u001b[0m\u001b[0mself\u001b[0m\u001b[0;34m.\u001b[0m\u001b[0mdata\u001b[0m\u001b[0;34m)\u001b[0m\u001b[0;34m\u001b[0m\u001b[0;34m\u001b[0m\u001b[0m\n\u001b[0m\u001b[1;32m    130\u001b[0m \u001b[0;34m\u001b[0m\u001b[0m\n\u001b[1;32m    131\u001b[0m     \u001b[0;31m# change coordinate of boost - not used\u001b[0m\u001b[0;34m\u001b[0m\u001b[0;34m\u001b[0m\u001b[0m\n",
      "\u001b[0;31mAttributeError\u001b[0m: 'MyDataset' object has no attribute 'data'"
     ]
    }
   ],
   "source": [
    "from torch.utils.data import DataLoader\n",
    "\n",
    "data_loaded = DataLoader(data, batch_size=64, drop_last=True)\n",
    "\n",
    "lepton_batch, jets_batch, met_batch = next(iter(data_loaded))\n",
    "\n",
    "#mask_jets_training = DataLoader(mask_jets, batch_size=64, shuffle=False, drop_last=True)\n",
    "#mask_lepton_training = DataLoader(mask_lepton, batch_size=64, shuffle=False, drop_last=True)\n",
    "#mask_met_training = DataLoader(mask_met, batch_size=64, shuffle=False, drop_last=True)"
   ]
  },
  {
   "cell_type": "code",
   "execution_count": 258,
   "id": "7e00555f",
   "metadata": {},
   "outputs": [],
   "source": [
    "jet_firstbatch = next(iter(jets_training))\n",
    "lepton_firstbatch = next(iter(lepton_training))\n",
    "met_firstbatch = next(iter(met_training))\n",
    "\n",
    "mask_jet_firstbatch = next(iter(mask_jets_training))\n",
    "mask_lepton_firstbatch = next(iter(mask_lepton_training))\n",
    "mask_met_firstbatch = next(iter(mask_met_training))\n"
   ]
  },
  {
   "cell_type": "code",
   "execution_count": 269,
   "id": "df753e64",
   "metadata": {},
   "outputs": [
    {
     "data": {
      "text/plain": [
       "torch.Size([64, 15, 7])"
      ]
     },
     "execution_count": 269,
     "metadata": {},
     "output_type": "execute_result"
    }
   ],
   "source": [
    "jet_firstbatch.shape"
   ]
  },
  {
   "cell_type": "code",
   "execution_count": 270,
   "id": "6b172f04",
   "metadata": {},
   "outputs": [
    {
     "data": {
      "text/plain": [
       "torch.Size([64, 15])"
      ]
     },
     "execution_count": 270,
     "metadata": {},
     "output_type": "execute_result"
    }
   ],
   "source": [
    "mask_jet  = jet_firstbatch[:,:,0] > 0\n",
    "mask_jet.shape"
   ]
  },
  {
   "cell_type": "code",
   "execution_count": 259,
   "id": "99349fb4",
   "metadata": {},
   "outputs": [],
   "source": [
    "import torch\n",
    "import torch.nn as nn\n",
    "\n",
    "lin_jet = nn.Linear(in_features=7, \n",
    "         out_features=64)\n",
    "\n",
    "act_jet = nn.GELU()\n",
    "\n",
    "lin_lept = nn.Linear(in_features=4, \n",
    "         out_features=64)\n",
    "\n",
    "act_lept = nn.GELU()"
   ]
  },
  {
   "attachments": {},
   "cell_type": "markdown",
   "id": "444a5fd3",
   "metadata": {},
   "source": [
    "## TO DO ADD 1 for jets, 2 for lept and 3 for met\n",
    "## TO DO SHuffle \n",
    "## TO DO add everything there: jets/lepton_reco and met in the same DataSet\n",
    "\n",
    "## Compute boost ( e in genlevelplots)\n",
    "\n",
    "## Also the 4 vectors are boosted"
   ]
  },
  {
   "cell_type": "code",
   "execution_count": 274,
   "id": "f9030cf4",
   "metadata": {},
   "outputs": [
    {
     "name": "stdout",
     "output_type": "stream",
     "text": [
      "torch.Size([64, 7])\n",
      "torch.Size([64, 15, 64])\n",
      "torch.Size([64, 1, 64])\n",
      "torch.Size([64, 1, 64])\n"
     ]
    }
   ],
   "source": [
    "#lin_jet.weight.data.mul_(mask_jet_firstbatch)\n",
    "print(lin_jet.weight.data.shape)\n",
    "#print(mask_jet_firstbatch.shape)\n",
    "\n",
    "jet_transformed = lin_jet(jet_firstbatch)*mask_jet[:,:,None]\n",
    "lept_transformed = lin_lept(lepton_firstbatch)\n",
    "met_transformed = lin_lept(met_firstbatch)\n",
    "\n",
    "print(jet_transformed.shape)\n",
    "print(lept_transformed.shape)\n",
    "print(met_transformed.shape)"
   ]
  },
  {
   "cell_type": "code",
   "execution_count": 244,
   "id": "a05a05cb",
   "metadata": {},
   "outputs": [],
   "source": [
    "import matplotlib.pyplot as plt"
   ]
  },
  {
   "cell_type": "code",
   "execution_count": 282,
   "id": "89a00a50",
   "metadata": {},
   "outputs": [
    {
     "data": {
      "text/plain": [
       "<matplotlib.image.AxesImage at 0x7fbc98caab20>"
      ]
     },
     "execution_count": 282,
     "metadata": {},
     "output_type": "execute_result"
    },
    {
     "data": {
      "image/png": "[encoded data removed]",
      "text/plain": [
       "<Figure size 500x300 with 1 Axes>"
      ]
     },
     "metadata": {},
     "output_type": "display_data"
    }
   ],
   "source": [
    "plt.figure(figsize=(5,3), dpi=100)\n",
    "plt.imshow(jet_transformed[0].detach().numpy(), cmap=\"bwr\")"
   ]
  },
  {
   "cell_type": "code",
   "execution_count": 238,
   "id": "004344b4",
   "metadata": {},
   "outputs": [
    {
     "name": "stdout",
     "output_type": "stream",
     "text": [
      "tensor([[-5.1810, -0.5245, -5.0003, -1.7494, -1.3954, -2.8781, -3.6989, -0.9320,\n",
      "         -3.3120,  4.3984, -4.2116, -5.7280, -5.0684,  0.7678, -0.3487,  4.0019,\n",
      "          4.0706,  3.8682, -1.5998, -0.9973, -0.6904,  5.4758,  4.9154,  0.6586,\n",
      "         -0.5711, -0.6491,  3.2157,  0.4260,  2.7971, -2.5998,  2.3884,  3.6848,\n",
      "         -3.5473, -5.5061, -0.0877, -3.6483, -5.0697, -2.3119, -2.3935,  0.3546,\n",
      "         -1.1535, -2.1671,  4.4594,  5.1459, -0.6749, -3.1376,  1.5460, -4.9337,\n",
      "         -0.1551,  2.7311,  0.3935, -4.3653,  5.7904,  4.9355, -0.8735,  4.1431,\n",
      "         -0.3310,  5.0975, -4.5068, -4.1587, -2.5411,  2.1758,  5.6519,  1.4546]],\n",
      "       grad_fn=<SelectBackward0>)\n",
      "torch.Size([64, 1, 64])\n",
      "torch.Size([64, 3, 64])\n"
     ]
    }
   ],
   "source": [
    "avgpool_2d = nn.AvgPool2d(kernel_size=[15,1], stride=[1,1], count_include_pad=True)\n",
    "\n",
    "jet_avg = avgpool_2d(jet_transformed)\n",
    "\n",
    "print(jet_avg[0])\n",
    "\n",
    "print(jet_avg.shape)\n",
    "\n",
    "jet_lepton_transformed = torch.cat((jet_avg, lept_transformed), dim=1)\n",
    "all_transformed = torch.cat((jet_lepton_transformed, met_transformed), dim=1)\n",
    "\n",
    "print(all_transformed.shape)"
   ]
  },
  {
   "cell_type": "code",
   "execution_count": 284,
   "id": "83cab40d",
   "metadata": {},
   "outputs": [
    {
     "name": "stdout",
     "output_type": "stream",
     "text": [
      "torch.Size([64, 15, 64])\n"
     ]
    }
   ],
   "source": [
    "## TRANSFORMER LAYER\n",
    "\n",
    "encoder_layer = nn.TransformerEncoderLayer(d_model=64,\n",
    "                                           nhead=8,\n",
    "                                          batch_first=True)\n",
    "\n",
    "transformer_encoder = nn.TransformerEncoder(encoder_layer, num_layers=6)\n",
    "out = encoder_layer(jet_transformed + lept_features + .. + MASK)\n",
    "\n",
    "print(out.shape)\n",
    "\n",
    "# average on all the space including lepton and met"
   ]
  },
  {
   "cell_type": "code",
   "execution_count": 228,
   "id": "d7268bb0",
   "metadata": {},
   "outputs": [
    {
     "name": "stdout",
     "output_type": "stream",
     "text": [
      "torch.Size([64, 3, 64])\n"
     ]
    }
   ],
   "source": [
    "print(out.shape)"
   ]
  },
  {
   "cell_type": "code",
   "execution_count": 229,
   "id": "bdeeb548",
   "metadata": {},
   "outputs": [
    {
     "data": {
      "text/plain": [
       "'\"\\nmask_jets = ak.fill_none(mask_jets, ones_jets, axis=1) \\nmask_lepton = ak.fill_none(mask_lepton, ones_lepton)\\nmask_met = ak.fill_none(mask_met, ones_lepton)\\n\\njet_features = [\"pt\", \"eta\", \"phi\", \"btag\", \"m\", \"matched\", \"prov\"]\\nlept_features = [\"pt\", \"eta\", \"phi\", \"m\"]\\n\\nmask_jets_numpy = to_flat_numpy(mask_jets, jet_features, axis=1, allow_missing=False)\\nmask_jets_tensor = torch.tensor(mask_jets_numpy, dtype = torch.float)\\n\\nmask_lept_numpy = to_flat_numpy(mask_lepton, lept_features, axis=1, allow_missing=False)\\nmask_lept_tensor = torch.tensor(mask_lept_numpy, dtype = torch.float)\\n\\nmask_met_numpy = to_flat_numpy(mask_met, lept_features, axis=1, allow_missing=False)\\nmask_met_tensor = torch.tensor(mask_met_numpy, dtype = torch.float)\\n\\nprint(mask_jets_tensor.shape)\\nprint(mask_lept_tensor.shape)\\nprint(mask_met_tensor.shape)\\n'"
      ]
     },
     "execution_count": 229,
     "metadata": {},
     "output_type": "execute_result"
    }
   ],
   "source": [
    "\"\"\"\"\n",
    "mask_jets = ak.fill_none(mask_jets, ones_jets, axis=1) \n",
    "mask_lepton = ak.fill_none(mask_lepton, ones_lepton)\n",
    "mask_met = ak.fill_none(mask_met, ones_lepton)\n",
    "\n",
    "jet_features = [\"pt\", \"eta\", \"phi\", \"btag\", \"m\", \"matched\", \"prov\"]\n",
    "lept_features = [\"pt\", \"eta\", \"phi\", \"m\"]\n",
    "\n",
    "mask_jets_numpy = to_flat_numpy(mask_jets, jet_features, axis=1, allow_missing=False)\n",
    "mask_jets_tensor = torch.tensor(mask_jets_numpy, dtype = torch.float)\n",
    "\n",
    "mask_lept_numpy = to_flat_numpy(mask_lepton, lept_features, axis=1, allow_missing=False)\n",
    "mask_lept_tensor = torch.tensor(mask_lept_numpy, dtype = torch.float)\n",
    "\n",
    "mask_met_numpy = to_flat_numpy(mask_met, lept_features, axis=1, allow_missing=False)\n",
    "mask_met_tensor = torch.tensor(mask_met_numpy, dtype = torch.float)\n",
    "\n",
    "print(mask_jets_tensor.shape)\n",
    "print(mask_lept_tensor.shape)\n",
    "print(mask_met_tensor.shape)\n",
    "\"\"\""
   ]
  },
  {
   "cell_type": "code",
   "execution_count": null,
   "id": "94ca10f6",
   "metadata": {},
   "outputs": [],
   "source": [
    "x = zip(jets_training, lepton_training)\n",
    "\n",
    "\n",
    "for idx, x in enumerate(x):\n",
    "    print(idx)"
   ]
  },
  {
   "cell_type": "code",
   "execution_count": null,
   "id": "1bf8bceb",
   "metadata": {},
   "outputs": [],
   "source": [
    "import torch\n",
    "import torch.nn as nn\n",
    "\n",
    "lin_jet = nn.Linear(in_features=7, \n",
    "         out_features=64)\n",
    "act_jet = nn.GELU()\n",
    "\n",
    "lin_lept = nn.Linear(in_features=4, \n",
    "         out_features=64)\n",
    "act_lept = nn.GELU()\n",
    "\n",
    "encoder_layer = nn.TransformerEncoderLayer(d_model=64,\n",
    "                                           nhead=8,\n",
    "                                          batch_first=True)\n",
    "\n",
    "transformer_encoder = nn.TransformerEncoder(encoder_layer, num_layers=1)\n",
    "\n",
    "jets_training = DataLoader(jets_data, batch_size=64, shuffle=False, drop_last=True)\n",
    "lepton_training = DataLoader(lepton_data, batch_size=64, shuffle=False, drop_last=True)\n",
    "met_training = DataLoader(met_data, batch_size=64, shuffle=False, drop_last=True)\n",
    "\n",
    "full_training = zip(jets_training, lepton_training, met_training)\n",
    "\n",
    "#for idx, x in enumerate(full_training):\n",
    "#    jet_transformed = lin_jet(x[0])\n",
    "#    lept_transformed = lin_lept(x[1])\n",
    "#    met_transformed = lin_lept(x[2])\n",
    "#    \n",
    "#    jet_lepton_transformed = torch.cat((jet_transformed, lept_transformed), dim=1)\n",
    "#    all_transformed = torch.cat((jet_lepton_transformed, met_transformed), dim=1)\n",
    "    \n",
    "#    batch_encoded = transformer_encoder(all_transformed)\n",
    "#    print(idx)\n"
   ]
  },
  {
   "cell_type": "code",
   "execution_count": null,
   "id": "2cb0de74",
   "metadata": {},
   "outputs": [],
   "source": [
    "import torch\n",
    "from torch.nn import Linear, Parameter\n",
    "\n",
    "\n",
    "class Transformer():\n",
    "    def __init__(self, in_channels, out_channels, nhead, no_layers):\n",
    "        super().__init__()\n",
    "        \n",
    "        self.in_channels = in_channels\n",
    "        \n",
    "        for i in self.in_channels:\n",
    "            self.lin = nn.ModuleList(Linear(i, out_channels))\n",
    "            \n",
    "        \n",
    "        self.nhead = nhead\n",
    "        self.no_layers = no_layers\n",
    "        self.reset_parameters()\n",
    "\n",
    "    def reset_parameters(self):\n",
    "        for lin in self.lin:\n",
    "            lin.reset_parameters()\n",
    "\n",
    "    def forward(self, x):\n",
    "        # x contains \"events\" with shape [batch, no_objects, no_features]\n",
    "        \n",
    "        self.gelu = nn.GELU()\n",
    "        \n",
    "        encoder_layer = nn.TransformerEncoderLayer(d_model=self.out_channels,\n",
    "                                           nhead=self.nhead,\n",
    "                                          batch_first=True)\n",
    "\n",
    "        transformer_encoder = nn.TransformerEncoder(encoder_layer, num_layers=self.no_layers)\n",
    "        \n",
    "        for batches in x:\n",
    "            for j in range(len(self.in_channels)):\n",
    "                batch_transformed[j] = self.lin[j](batches[j])\n",
    "                if j == 0:\n",
    "                    all_batch = batch_transformed[j]\n",
    "                if j > 0:\n",
    "                    all_batch = torch.cat((all_batch, batch_transformed[j]), dim=1)\n",
    "                \n",
    "            batch_encoded = transformer_encoder(all_batch)\n",
    "            output = torch.cat((output, batch_encoded), dim=0)\n",
    "        \n",
    "        return out\n",
    "\n",
    "    def message(self, x_i, x_j, norm):\n",
    "        # x_j has shape [E, out_channels]\n",
    "        print(x_i[0:10])\n",
    "        print(x_j[0:10])\n",
    "        # Step 4: Normalize node features.\n",
    "        return norm.view(-1, 1) * x_i"
   ]
  },
  {
   "cell_type": "code",
   "execution_count": null,
   "id": "1552a6af",
   "metadata": {},
   "outputs": [],
   "source": [
    "#TO DO CONVOLUTION\n",
    "\n",
    "import torch\n",
    "import torch.nn as nn\n",
    "\n",
    "jet_conv = nn.Conv1d(in_channels=15, out_channels=15, kernel_size=7, stride=1)\n",
    "\n",
    "jet_output = torch.randn(1, 15, 1)\n",
    "zero = torch.ones(584129, 15, 1) #type = jet (1 last digit)\n",
    "\n",
    "ok = 0\n",
    "\n",
    "#for local_batch in jets_training:\n",
    "y = jet_conv(jet_firstbatch)\n",
    "    #print(x.shape)\n",
    "#jet_output = torch.cat((jet_output, x), 0)\n",
    "\n",
    "#print(jet_output.shape)\n",
    "#jet_output = torch.cat((jet_output, zero), dim=-1)"
   ]
  },
  {
   "cell_type": "code",
   "execution_count": null,
   "id": "741ad5ca",
   "metadata": {},
   "outputs": [],
   "source": [
    "act(lin(x)).shape"
   ]
  },
  {
   "cell_type": "code",
   "execution_count": null,
   "id": "794fbac0",
   "metadata": {},
   "outputs": [],
   "source": [
    "print(y.shape)"
   ]
  },
  {
   "cell_type": "code",
   "execution_count": null,
   "id": "fc90c02e",
   "metadata": {},
   "outputs": [],
   "source": [
    "import torch\n",
    "import torch.nn as nn\n",
    "\n",
    "lepton_conv = nn.Conv1d(4, 1, 1)\n",
    "\n",
    "lepton_output = torch.randn(1, 1, 1)\n",
    "met_output = torch.randn(1, 1, 1)\n",
    "\n",
    "one = 2*torch.ones(584129, 1, 1) # type leptons = 2\n",
    "two = 3*torch.ones(584129, 1, 1) #type met = 3\n",
    "\n",
    "\n",
    "for local_batch in lepton_training:\n",
    "    x = lepton_conv(local_batch)\n",
    "    #print(x.shape)\n",
    "    lepton_output = torch.cat((lepton_output, x), 0)\n",
    "    #print(x.shape)\n",
    "\n",
    "for local_batch in met_training:\n",
    "    x = lepton_conv(local_batch)\n",
    "    met_output = torch.cat((met_output, x), 0)\n",
    "    #print(x.shape)\n",
    "\n",
    "\n",
    "lepton_output = torch.cat((lepton_output, one), dim=-1)\n",
    "met_output = torch.cat((met_output, two), dim=-1)\n",
    "\n",
    "print(lepton_output.shape)"
   ]
  },
  {
   "cell_type": "code",
   "execution_count": null,
   "id": "7f000891",
   "metadata": {},
   "outputs": [],
   "source": [
    "torch.save(jet_output, './trained_data/jet_output.pt')"
   ]
  },
  {
   "cell_type": "code",
   "execution_count": null,
   "id": "3ff5af07",
   "metadata": {},
   "outputs": [],
   "source": [
    "torch.save(lepton_output, './trained_data/lepton_output.pt')\n",
    "torch.save(met_output, './trained_data/met_output.pt')"
   ]
  },
  {
   "cell_type": "code",
   "execution_count": null,
   "id": "fe8ee52d",
   "metadata": {},
   "outputs": [],
   "source": [
    "jet = torch.load('./trained_data/jet_output.pt')\n",
    "lepton = torch.load('./trained_data/lepton_output.pt')\n",
    "met = torch.load('./trained_data/met_output.pt')"
   ]
  },
  {
   "cell_type": "code",
   "execution_count": null,
   "id": "f4903d59",
   "metadata": {},
   "outputs": [],
   "source": [
    "jet = jet[1:,:,:]\n",
    "lepton = lepton[1:,:,:]\n",
    "met = met[1:,:,:]"
   ]
  },
  {
   "cell_type": "code",
   "execution_count": null,
   "id": "70a79b94",
   "metadata": {},
   "outputs": [],
   "source": [
    "jet_lepton = torch.cat((jet, lepton), dim=1)\n",
    "all_ = torch.cat((jet_lepton, met), dim=1)"
   ]
  },
  {
   "cell_type": "code",
   "execution_count": null,
   "id": "15413ece",
   "metadata": {},
   "outputs": [],
   "source": [
    "all_.shape"
   ]
  },
  {
   "cell_type": "code",
   "execution_count": null,
   "id": "eabe80cd",
   "metadata": {},
   "outputs": [],
   "source": [
    "all_"
   ]
  },
  {
   "cell_type": "code",
   "execution_count": null,
   "id": "af71d93e",
   "metadata": {},
   "outputs": [],
   "source": [
    "load_data = DataLoader(all_, batch_size=64, shuffle=False, drop_last=True)"
   ]
  },
  {
   "cell_type": "markdown",
   "id": "a7f12c08",
   "metadata": {},
   "source": [
    "## NOW Suppose all_ is input of MultiHead Attention"
   ]
  },
  {
   "cell_type": "code",
   "execution_count": null,
   "id": "ecf7eb2f",
   "metadata": {},
   "outputs": [],
   "source": [
    "import torch\n",
    "import torch.nn as nn\n",
    "\n",
    "embed_dim = 256\n",
    "num_heads = 64\n",
    "\n",
    "multihead_attn = nn.MultiheadAttention(embed_dim, num_heads)\n",
    "attn_output, attn_output_weights = multihead_attn(query, key, value)"
   ]
  },
  {
   "cell_type": "code",
   "execution_count": null,
   "id": "51cff5d6",
   "metadata": {},
   "outputs": [],
   "source": [
    "x = zip(jets_training, lepton_training, met_training)\n",
    "\n",
    "for i in x:\n",
    "    for j in range(len(in_channels))"
   ]
  }
 ],
 "metadata": {
  "kernelspec": {
   "display_name": "base",
   "language": "python",
   "name": "python3"
  },
  "language_info": {
   "codemirror_mode": {
    "name": "ipython",
    "version": 3
   },
   "file_extension": ".py",
   "mimetype": "text/x-python",
   "name": "python",
   "nbconvert_exporter": "python",
   "pygments_lexer": "ipython3",
   "version": "3.9.13"
  },
  "vscode": {
   "interpreter": {
    "hash": "7a3f16aeffd7fcb6718a545329a7f0c14e16ce2928813b5a96107c77ce3c2574"
   }
  }
 },
 "nbformat": 4,
 "nbformat_minor": 5
}
