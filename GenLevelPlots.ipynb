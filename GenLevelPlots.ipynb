{
 "cells": [
  {
   "cell_type": "code",
   "execution_count": null,
   "id": "cf9c1362-e5a7-449a-a280-6d7e1e0760a6",
   "metadata": {},
   "outputs": [],
   "source": [
    "df = ak.from_parquet(\"/eos/user/d/dvalsecc/www/ttHbb_analysis/dataset/jets_combinations_ttHbb_fullymatched_v1.parquet\")"
   ]
  },
  {
   "cell_type": "code",
   "execution_count": null,
   "id": "230ca407-bf99-4a70-bcd2-91b0df8805b7",
   "metadata": {},
   "outputs": [],
   "source": [
    "(jets_fullymatched,  # initial collections of jets, already fully matched\n",
    "comb_index,          # indices of jets with all the combinations for all the events\n",
    "signal_comb,         # mask to get the \"signal\" combination  [events, True/False]\n",
    "jets_combinations,   # collections of jets, many different collections for each event (from comb_index)\n",
    "higgs_jets,          # higgs_jets (index 0, 1 of the combination)\n",
    "tlep_jets,           # tlep jet (index 2 of the combination)\n",
    "thad_jets,           # thad jets (index 3,4,5 of the combination)\n",
    "whad_jets            # whad_jets (index 4 5 of the combination)\n",
    ") = ak.unzip(df)\n",
    "\n",
    "jets_combinations = ak.with_name(jets_combinations, name=\"Momentum4D\")\n",
    "higgs_jets = ak.with_name(higgs_jets, name=\"Momentum4D\")\n",
    "tlep_jets = ak.with_name(tlep_jets, name=\"Momentum4D\")\n",
    "thad_jets = ak.with_name(thad_jets, name=\"Momentum4D\")\n",
    "whad_jets = ak.with_name(whad_jets, name=\"Momentum4D\")"
   ]
  }
 ],
 "metadata": {
  "kernelspec": {
   "display_name": "Python 3 (ipykernel)",
   "language": "python",
   "name": "python3"
  },
  "language_info": {
   "codemirror_mode": {
    "name": "ipython",
    "version": 3
   },
   "file_extension": ".py",
   "mimetype": "text/x-python",
   "name": "python",
   "nbconvert_exporter": "python",
   "pygments_lexer": "ipython3",
   "version": "3.9.15"
  }
 },
 "nbformat": 4,
 "nbformat_minor": 5
}
